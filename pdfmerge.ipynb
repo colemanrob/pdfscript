{
 "cells": [
  {
   "cell_type": "code",
   "execution_count": 30,
   "metadata": {
    "collapsed": false
   },
   "outputs": [],
   "source": [
    "import os\n",
    "from PyPDF2 import PdfFileReader, PdfFileMerger\n",
    "import re"
   ]
  },
  {
   "cell_type": "code",
   "execution_count": 31,
   "metadata": {
    "collapsed": true
   },
   "outputs": [],
   "source": [
    "maps_dir = 'C:\\\\Users\\\\ColemaRo\\\\Desktop\\\\2016 OEAS\\\\v5\\\\maps'\n",
    "fsheets_dir = 'C:\\\\Users\\\\ColemaRo\\\\Desktop\\\\2016 OEAS\\\\v5\\\\fsheets'"
   ]
  },
  {
   "cell_type": "code",
   "execution_count": 32,
   "metadata": {
    "collapsed": true
   },
   "outputs": [],
   "source": [
    "def natural_sort(l): \n",
    "    convert = lambda text: int(text) if text.isdigit() else text.lower() \n",
    "    alphanum_key = lambda key: [ convert(c) for c in re.split('([0-9]+)', key) ] \n",
    "    return sorted(l, key = alphanum_key)"
   ]
  },
  {
   "cell_type": "code",
   "execution_count": 39,
   "metadata": {
    "collapsed": false
   },
   "outputs": [],
   "source": [
    "map_files = [f for f in os.listdir(maps_dir)]\n",
    "fsheet_files = [f for f in os.listdir(fsheets_dir)]\n",
    "map_files.sort()\n",
    "fsheet_files = natural_sort(fsheet_files)\n",
    "merger = PdfFileMerger()\n"
   ]
  },
  {
   "cell_type": "code",
   "execution_count": 40,
   "metadata": {
    "collapsed": true
   },
   "outputs": [],
   "source": [
    "for fsheets, maps in zip(fsheet_files, map_files):\n",
    "    merger.append(PdfFileReader(os.path.join(fsheets_dir, fsheets), \"rb\"))\n",
    "    merger.append(PdfFileReader(os.path.join(maps_dir, maps), \"rb\"))"
   ]
  },
  {
   "cell_type": "code",
   "execution_count": 41,
   "metadata": {
    "collapsed": true
   },
   "outputs": [],
   "source": [
    "merger.write(os.path.join(maps_dir, \"merged_full.pdf\"))"
   ]
  }
 ],
 "metadata": {
  "kernelspec": {
   "display_name": "Python 3",
   "language": "python",
   "name": "python3"
  },
  "language_info": {
   "codemirror_mode": {
    "name": "ipython",
    "version": 3
   },
   "file_extension": ".py",
   "mimetype": "text/x-python",
   "name": "python",
   "nbconvert_exporter": "python",
   "pygments_lexer": "ipython3",
   "version": "3.5.1"
  }
 },
 "nbformat": 4,
 "nbformat_minor": 0
}
